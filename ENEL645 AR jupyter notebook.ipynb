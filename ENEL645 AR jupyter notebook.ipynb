{
  "cells": [
    {
      "cell_type": "markdown",
      "id": "c6586c2d",
      "metadata": {
        "id": "c6586c2d"
      },
      "source": [
        "## Multimodal Garbage Classification"
      ]
    },
    {
      "cell_type": "markdown",
      "source": [
        "Note: In order to see the results run the first code cell, where the libraries are imported, and then run the cell in the results section."
      ],
      "metadata": {
        "id": "Vs3i3jku7FMx"
      },
      "id": "Vs3i3jku7FMx"
    },
    {
      "cell_type": "markdown",
      "id": "09576607",
      "metadata": {
        "id": "09576607"
      },
      "source": [
        "## Introduction"
      ]
    },
    {
      "cell_type": "markdown",
      "id": "65c3394f",
      "metadata": {
        "id": "65c3394f"
      },
      "source": [
        "This notebook demonstrates the implementation of a multimodal classification model that combines image and text features using a ResNet feature extractor for images and a DistilBERT feature extractor for text. The model predicts one of four possible classes for each image-text pair."
      ]
    },
    {
      "cell_type": "markdown",
      "id": "ea0dda17",
      "metadata": {
        "id": "ea0dda17"
      },
      "source": [
        "## The necessary libraries are imported"
      ]
    },
    {
      "cell_type": "markdown",
      "source": [
        "texttable is imported in order to display a confusion matrix in ASCII (since TALC can can only save output in text files)"
      ],
      "metadata": {
        "id": "WFkEKKHJn88-"
      },
      "id": "WFkEKKHJn88-"
    },
    {
      "cell_type": "code",
      "execution_count": 7,
      "id": "ffa5154e",
      "metadata": {
        "id": "ffa5154e",
        "colab": {
          "base_uri": "https://localhost:8080/"
        },
        "outputId": "1c6359ac-e676-4846-b7d8-724dcde60680"
      },
      "outputs": [
        {
          "output_type": "stream",
          "name": "stdout",
          "text": [
            "Requirement already satisfied: texttable in /usr/local/lib/python3.10/dist-packages (1.7.0)\n"
          ]
        }
      ],
      "source": [
        "!pip install texttable\n",
        "import torch\n",
        "import torch.nn as nn\n",
        "import torch.optim as optim\n",
        "from torch.utils.data import DataLoader\n",
        "from transformers import DistilBertModel, DistilBertTokenizer\n",
        "from torchvision import models, transforms\n",
        "from torch.utils.data import Dataset\n",
        "from PIL import Image\n",
        "import numpy as np\n",
        "import os\n",
        "import re\n",
        "import pandas as pd\n",
        "import matplotlib.pyplot as plt\n",
        "from sklearn.metrics import confusion_matrix\n",
        "import texttable as tt\n",
        "\n"
      ]
    },
    {
      "cell_type": "markdown",
      "source": [
        "## Data loading and preprocessing"
      ],
      "metadata": {
        "id": "MGhBD3rYnqhb"
      },
      "id": "MGhBD3rYnqhb"
    },
    {
      "cell_type": "code",
      "source": [
        "def read_text_files_with_labels(path):\n",
        "    texts = []\n",
        "    labels = []\n",
        "    image_paths=[]\n",
        "    class_folders = sorted(os.listdir(path))\n",
        "    label_map = {class_name: idx for idx, class_name in enumerate(class_folders)}\n",
        "\n",
        "    for class_name in class_folders:\n",
        "        class_path = os.path.join(path, class_name)\n",
        "        if os.path.isdir(class_path):\n",
        "            file_names = os.listdir(class_path)\n",
        "            for file_name in file_names:\n",
        "                file_path = os.path.join(class_path, file_name)\n",
        "\n",
        "                if os.path.isfile(file_path):\n",
        "                    image_paths.append(file_path) #adding this to the code to get a list of image paths\n",
        "                    file_name_no_ext, _ = os.path.splitext(file_name)\n",
        "                    text = file_name_no_ext.replace('_', ' ')\n",
        "                    text_without_digits = re.sub(r'\\d+', '', text)\n",
        "                    texts.append(text_without_digits)\n",
        "                    labels.append(label_map[class_name])\n",
        "\n",
        "    return np.array(texts), np.array(labels), np.array(image_paths)\n",
        "\n",
        "\n",
        "TRAIN_PATH = r\"/work/TALC/enel645_2024f/garbage_data/CVPR_2024_dataset_Train\"\n",
        "VAL_PATH = r\"/work/TALC/enel645_2024f/garbage_data/CVPR_2024_dataset_Val\"\n",
        "TEST_PATH = r\"/work/TALC/enel645_2024f/garbage_data/CVPR_2024_dataset_Test\"\n",
        "\n",
        "\n",
        "\n",
        "a, b, c = read_text_files_with_labels(TRAIN_PATH)\n",
        "a2, b2, c2 = read_text_files_with_labels(VAL_PATH)\n",
        "a3, b3, c3 = read_text_files_with_labels(TEST_PATH)\n",
        "temp_dictionary = {'text': a, 'label': b, 'image_path': c}\n",
        "dataframe_train = pd.DataFrame(temp_dictionary)\n",
        "dataframe_val = pd.DataFrame({'text': a2, 'label': b2, 'image_path': c2})\n",
        "dataframe_test = pd.DataFrame({'text': a3, 'label': b3, 'image_path': c3})\n"
      ],
      "metadata": {
        "id": "c38laTsSoin-"
      },
      "id": "c38laTsSoin-",
      "execution_count": null,
      "outputs": []
    },
    {
      "cell_type": "markdown",
      "id": "fba148e1",
      "metadata": {
        "id": "fba148e1"
      },
      "source": [
        "## Create classes for the DistilBERT and ResNet models"
      ]
    },
    {
      "cell_type": "code",
      "execution_count": null,
      "id": "7e94ae05",
      "metadata": {
        "id": "7e94ae05"
      },
      "outputs": [],
      "source": [
        "\n",
        "# Define ResNet and BERT models\n",
        "class ResNetFeatureExtractor(nn.Module):\n",
        "    def __init__(self):\n",
        "        super(ResNetFeatureExtractor, self).__init__()\n",
        "        resnet = models.resnet18(pretrained=True)\n",
        "        self.feature_extractor = nn.Sequential(*list(resnet.children())[:-1])\n",
        "\n",
        "    def forward(self, x):\n",
        "        with torch.no_grad():\n",
        "            features = self.feature_extractor(x)\n",
        "        return features.view(features.size(0), -1)\n",
        "\n",
        "class DistilBERTFeatureExtractor(nn.Module):\n",
        "    def __init__(self):\n",
        "        super(DistilBERTFeatureExtractor, self).__init__()\n",
        "        self.bert = DistilBertModel.from_pretrained('distilbert-base-uncased')\n",
        "\n",
        "    def forward(self, input_ids, attention_mask):\n",
        "        with torch.no_grad():\n",
        "            outputs = self.bert(input_ids=input_ids, attention_mask=attention_mask)\n",
        "        return outputs.last_hidden_state[:, 0, :]"
      ]
    },
    {
      "cell_type": "markdown",
      "id": "00bfbef5",
      "metadata": {
        "id": "00bfbef5"
      },
      "source": [
        "## Create class for the multimodal model"
      ]
    },
    {
      "cell_type": "code",
      "execution_count": null,
      "id": "1a9f7c9f",
      "metadata": {
        "id": "1a9f7c9f"
      },
      "outputs": [],
      "source": [
        "\n",
        "# Define the multimodal classification model\n",
        "class MultimodalClassifier(nn.Module):\n",
        "    def __init__(self, num_classes):\n",
        "        super(MultimodalClassifier, self).__init__()\n",
        "        self.image_extractor = ResNetFeatureExtractor()\n",
        "        self.text_extractor = DistilBERTFeatureExtractor()\n",
        "        self.fc_image = nn.Linear(512, 256)\n",
        "        self.fc_text = nn.Linear(768, 256)\n",
        "        self.classifier = nn.Linear(512, num_classes)  # Concatenate image and text features\n",
        "\n",
        "    def forward(self, input_ids, attention_mask, image):\n",
        "        # Extract features\n",
        "        image_features = self.image_extractor(image)\n",
        "        text_features = self.text_extractor(input_ids, attention_mask)\n",
        "\n",
        "        # Fully connected layers\n",
        "        image_features = torch.relu(self.fc_image(image_features))\n",
        "        text_features = torch.relu(self.fc_text(text_features))\n",
        "\n",
        "        # Concatenate image and text features\n",
        "        combined_features = torch.cat((image_features, text_features), dim=1)\n",
        "\n",
        "        # Classification\n",
        "        logits = self.classifier(combined_features)\n",
        "        return logits"
      ]
    },
    {
      "cell_type": "markdown",
      "id": "1d2a2691",
      "metadata": {
        "id": "1d2a2691"
      },
      "source": [
        "## Create a class for the multimodal data set"
      ]
    },
    {
      "cell_type": "code",
      "source": [
        "# Define dataset class\n",
        "class MultimodalDataset(Dataset):\n",
        "    def __init__(self, dataframe, tokenizer, image_transform):\n",
        "        self.dataframe = dataframe\n",
        "        self.tokenizer = tokenizer\n",
        "        self.image_transform = image_transform\n",
        "\n",
        "    def __len__(self):\n",
        "        return len(self.dataframe)\n",
        "\n",
        "    def __getitem__(self, idx):\n",
        "        # Get text and image path\n",
        "        text = self.dataframe.iloc[idx]['text']\n",
        "        image_path = self.dataframe.iloc[idx]['image_path']\n",
        "        label = self.dataframe.iloc[idx]['label']\n",
        "\n",
        "        # Tokenize text\n",
        "        encoding = self.tokenizer(\n",
        "            text,\n",
        "            padding='max_length',\n",
        "            truncation=True,\n",
        "            max_length=128,\n",
        "            return_tensors='pt'\n",
        "        )\n",
        "\n",
        "        # Load and transform image\n",
        "        image = Image.open(image_path).convert('RGB')\n",
        "        image = self.image_transform(image)\n",
        "\n",
        "        # Extract input IDs and attention mask from encoding\n",
        "        input_ids = encoding['input_ids'].squeeze()\n",
        "        attention_mask = encoding['attention_mask'].squeeze()\n",
        "\n",
        "        return {\n",
        "            'input_ids': input_ids,\n",
        "            'attention_mask': attention_mask,\n",
        "            'image': image,\n",
        "            'label': torch.tensor(label, dtype=torch.long)\n",
        "        }\n"
      ],
      "metadata": {
        "id": "5c-kqcp4rXOE"
      },
      "id": "5c-kqcp4rXOE",
      "execution_count": null,
      "outputs": []
    },
    {
      "cell_type": "markdown",
      "id": "16203a36",
      "metadata": {
        "id": "16203a36"
      },
      "source": [
        "## Preprocessing, training, validation, and test setup"
      ]
    },
    {
      "cell_type": "code",
      "execution_count": null,
      "id": "b69af37e",
      "metadata": {
        "id": "b69af37e"
      },
      "outputs": [],
      "source": [
        "# Training setup\n",
        "image_transform = transforms.Compose([\n",
        "    transforms.Resize((224, 224)),\n",
        "    transforms.ToTensor(),\n",
        "    transforms.Normalize(mean=[0.485, 0.456, 0.406], std=[0.229, 0.224, 0.225])\n",
        "])\n",
        "\n",
        "tokenizer = DistilBertTokenizer.from_pretrained('distilbert-base-uncased')\n",
        "\n",
        "\n",
        "train_dataset = MultimodalDataset(dataframe_train, tokenizer, image_transform)\n",
        "val_dataset = MultimodalDataset(dataframe_val, tokenizer, image_transform)\n",
        "test_dataset = MultimodalDataset(dataframe_test, tokenizer, image_transform)\n",
        "\n",
        "train_loader = DataLoader(train_dataset, batch_size=8, shuffle=True, num_workers=4)\n",
        "val_loader = DataLoader(val_dataset, batch_size=8, shuffle=False, num_workers=4)\n",
        "test_loader = DataLoader(test_dataset, batch_size=8, shuffle=False, num_workers=4)\n",
        "\n",
        "# Model, criterion, optimizer, and device setup\n",
        "device = torch.device('cuda' if torch.cuda.is_available() else 'cpu')\n",
        "num_classes = 4\n",
        "model = MultimodalClassifier(num_classes).to(device)\n",
        "criterion = nn.CrossEntropyLoss()\n",
        "optimizer = optim.Adam(model.parameters(), lr=1e-4)\n",
        "\n",
        "device = torch.device('cuda' if torch.cuda.is_available() else 'cpu')"
      ]
    },
    {
      "cell_type": "markdown",
      "source": [
        "## Training and validation"
      ],
      "metadata": {
        "id": "1gsbMqcHuRs9"
      },
      "id": "1gsbMqcHuRs9"
    },
    {
      "cell_type": "code",
      "source": [
        "# Training and validation loop\n",
        "epochs = 20\n",
        "for epoch in range(epochs):\n",
        "    model.train()\n",
        "    total_loss = 0\n",
        "    for batch in train_loader:\n",
        "        # Move batch to device\n",
        "        input_ids = batch['input_ids'].to(device)\n",
        "        attention_mask = batch['attention_mask'].to(device)\n",
        "        images = batch['image'].to(device)\n",
        "        labels = batch['label'].to(device)\n",
        "\n",
        "        # Forward pass\n",
        "        outputs = model(input_ids=input_ids, attention_mask=attention_mask, image=images)\n",
        "        loss = criterion(outputs, labels)\n",
        "\n",
        "        # Backward pass and optimization\n",
        "        optimizer.zero_grad()\n",
        "        loss.backward()\n",
        "        optimizer.step()\n",
        "\n",
        "        total_loss += loss.item()\n",
        "\n",
        "    # Print epoch loss\n",
        "    avg_loss = total_loss / len(train_loader)\n",
        "    print(f\"Epoch [{epoch+1}/{epochs}], Training Loss: {avg_loss:.4f}\")\n",
        "\n",
        "    # Validation step\n",
        "    model.eval()\n",
        "    val_loss = 0\n",
        "    correct = 0\n",
        "    total = 0\n",
        "    with torch.no_grad():\n",
        "        for batch in val_loader:\n",
        "            input_ids = batch['input_ids'].to(device)\n",
        "            attention_mask = batch['attention_mask'].to(device)\n",
        "            images = batch['image'].to(device)\n",
        "            labels = batch['label'].to(device)\n",
        "\n",
        "            outputs = model(input_ids=input_ids, attention_mask=attention_mask, image=images)\n",
        "            loss = criterion(outputs, labels)\n",
        "            val_loss += loss.item()\n",
        "\n",
        "            _, predicted = torch.max(outputs, 1)\n",
        "            total += labels.size(0)\n",
        "            correct += (predicted == labels).sum().item()\n",
        "\n",
        "    avg_val_loss = val_loss / len(val_loader)\n",
        "    val_accuracy = correct / total\n",
        "    print(f\"Validation Loss: {avg_val_loss:.4f}, Validation Accuracy: {val_accuracy:.4f}\")\n",
        "\n",
        "print(\"Training complete.\")"
      ],
      "metadata": {
        "id": "oqoKaBP_uY2n"
      },
      "id": "oqoKaBP_uY2n",
      "execution_count": null,
      "outputs": []
    },
    {
      "cell_type": "markdown",
      "source": [
        "## Test loop"
      ],
      "metadata": {
        "id": "M09F7HzPustW"
      },
      "id": "M09F7HzPustW"
    },
    {
      "cell_type": "code",
      "source": [
        "def test_model(model, dataloader, device):\n",
        "    model.eval()  # Set the model to evaluation mode\n",
        "    correct = 0\n",
        "    total = 0\n",
        "    all_labels = []\n",
        "    all_predictions = []\n",
        "    with torch.no_grad():\n",
        "        for batch in dataloader:\n",
        "            input_ids = batch['input_ids'].to(device)\n",
        "            attention_mask = batch['attention_mask'].to(device)\n",
        "            images = batch['image'].to(device)\n",
        "            labels = batch['label'].to(device)\n",
        "\n",
        "            # Forward pass\n",
        "            outputs = model(input_ids=input_ids, attention_mask=attention_mask, image=images)\n",
        "            _, predicted = torch.max(outputs, 1)\n",
        "            total += labels.size(0)\n",
        "            correct += (predicted == labels).sum().item()\n",
        "\n",
        "            all_labels.extend(labels.cpu().numpy())\n",
        "            all_predictions.extend(predicted.cpu().numpy())\n",
        "\n",
        "    accuracy = correct / total\n",
        "    print(f\"Test Accuracy: {accuracy:.4f}\")"
      ],
      "metadata": {
        "id": "CHb0OItcuxf_"
      },
      "id": "CHb0OItcuxf_",
      "execution_count": null,
      "outputs": []
    },
    {
      "cell_type": "markdown",
      "source": [
        "## Confusion matrix and evaluation on test set"
      ],
      "metadata": {
        "id": "wx0EAI6xvWR0"
      },
      "id": "wx0EAI6xvWR0"
    },
    {
      "cell_type": "code",
      "source": [
        " # Confusion Matrix\n",
        "    cm = confusion_matrix(all_labels, all_predictions)\n",
        "\n",
        "    # Create an ASCII representation of the confusion matrix using texttable\n",
        "    tab = tt.Texttable()\n",
        "    tab.add_row([\"\"] + [f\"Pred {i}\" for i in range(len(cm))])\n",
        "    for i, row in enumerate(cm):\n",
        "        tab.add_row([f\"True {i}\"] + list(row))\n",
        "    print(tab.draw())\n",
        "\n",
        "    # Evaluate the model on the test set\n",
        "test_model(model, test_loader, device)"
      ],
      "metadata": {
        "id": "nDThDKL1vYwg"
      },
      "id": "nDThDKL1vYwg",
      "execution_count": null,
      "outputs": []
    },
    {
      "cell_type": "markdown",
      "source": [
        "## Results"
      ],
      "metadata": {
        "id": "GlyxsqccwZ37"
      },
      "id": "GlyxsqccwZ37"
    },
    {
      "cell_type": "code",
      "source": [
        "\n",
        "epochs = range(1, 21)\n",
        "training_loss = [0.7666, 0.5303, 0.4787, 0.4474, 0.4360, 0.4195, 0.4036, 0.3992, 0.3856, 0.3734, 0.3657, 0.3615, 0.3470, 0.3406, 0.3331, 0.3296, 0.3258, 0.3232, 0.3084, 0.3070]\n",
        "validation_loss = [0.5349, 0.4757, 0.4578, 0.4316, 0.4197, 0.4403, 0.4186, 0.3979, 0.3966, 0.3945, 0.4174, 0.3704, 0.3819, 0.3831, 0.3664, 0.3794, 0.3845, 0.3702, 0.3861, 0.3865]\n",
        "validation_accuracy = [0.8044, 0.8256, 0.8272, 0.8328, 0.8467, 0.8372, 0.8444, 0.8522, 0.8511, 0.8517, 0.8428, 0.8606, 0.8567, 0.8578, 0.8656, 0.8600, 0.8589, 0.8617, 0.8589, 0.8561]\n",
        "\n",
        "plt.figure(figsize=(14, 6))\n",
        "\n",
        "plt.subplot(1, 2, 1)\n",
        "plt.plot(epochs, training_loss, label='Training Loss')\n",
        "plt.plot(epochs, validation_loss, label='Validation Loss')\n",
        "plt.xlabel('Epochs')\n",
        "plt.ylabel('Loss')\n",
        "plt.title('Training and Validation Loss')\n",
        "plt.legend()\n",
        "\n",
        "plt.subplot(1, 2, 2)\n",
        "plt.plot(epochs, validation_accuracy, label='Validation Accuracy')\n",
        "plt.xlabel('Epochs')\n",
        "plt.ylabel('Accuracy')\n",
        "plt.title('Validation Accuracy')\n",
        "plt.legend()\n",
        "\n",
        "plt.tight_layout()\n",
        "plt.show()"
      ],
      "metadata": {
        "colab": {
          "base_uri": "https://localhost:8080/",
          "height": 607
        },
        "id": "Y63hVX9VwdXm",
        "outputId": "96300ad8-324a-4f72-a5b5-4378be5a2444"
      },
      "id": "Y63hVX9VwdXm",
      "execution_count": 8,
      "outputs": [
        {
          "output_type": "display_data",
          "data": {
            "text/plain": [
              "<Figure size 1400x600 with 2 Axes>"
            ],
            "image/png": "[encoded data removed]"
          },
          "metadata": {}
        }
      ]
    },
    {
      "cell_type": "markdown",
      "source": [
        "## Display confusion matrix and accuracy"
      ],
      "metadata": {
        "id": "Q9Yrjpu047k2"
      },
      "id": "Q9Yrjpu047k2"
    },
    {
      "cell_type": "markdown",
      "source": [
        "Confusion matrix is obtained from the slurm file output. The four numbes (0,1,2,3) correspond to the four clases (black, blue green, TTR respectively). Accuracy is also obtained from the slurm output file."
      ],
      "metadata": {
        "id": "f0LtTMFV5egg"
      },
      "id": "f0LtTMFV5egg"
    },
    {
      "cell_type": "markdown",
      "source": [
        " Test Accuracy: 0.8001"
      ],
      "metadata": {
        "id": "G-Bsw28G7hzF"
      },
      "id": "G-Bsw28G7hzF"
    },
    {
      "cell_type": "code",
      "source": [
        "+--------+--------+--------+--------+--------+\n",
        "|        | Pred 0 | Pred 1 | Pred 2 | Pred 3 |\n",
        "+--------+--------+--------+--------+--------+\n",
        "| True 0 | 517    | 72     | 43     | 63     |\n",
        "+--------+--------+--------+--------+--------+\n",
        "| True 1 | 129    | 875    | 60     | 21     |\n",
        "+--------+--------+--------+--------+--------+\n",
        "| True 2 | 29     | 19     | 746    | 5      |\n",
        "+--------+--------+--------+--------+--------+\n",
        "| True 3 | 117    | 93     | 35     | 607    |\n",
        "+--------+--------+--------+--------+--------+"
      ],
      "metadata": {
        "id": "voJT252n5Wwp"
      },
      "id": "voJT252n5Wwp",
      "execution_count": null,
      "outputs": []
    }
  ],
  "metadata": {
    "colab": {
      "provenance": []
    },
    "language_info": {
      "name": "python"
    },
    "kernelspec": {
      "name": "python3",
      "display_name": "Python 3"
    }
  },
  "nbformat": 4,
  "nbformat_minor": 5
}